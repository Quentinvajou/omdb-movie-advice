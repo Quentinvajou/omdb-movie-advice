{
 "cells": [
  {
   "cell_type": "markdown",
   "metadata": {
    "nbpresent": {
     "id": "8a55092b-7a6c-475b-a5b1-795983637c43"
    }
   },
   "source": [
    "# What movie for a user who saw \"Inferno\" from R. Howard ?"
   ]
  },
  {
   "cell_type": "markdown",
   "metadata": {
    "nbpresent": {
     "id": "59a01747-a2bf-4fda-8d2b-bf960c245a47"
    }
   },
   "source": [
    "*[Based on the MovieLens dataset](https://grouplens.org/datasets/movielens/)*\n",
    "\n",
    "*by Quentin Vajou*\n",
    "\n",
    "*March 2017*\n",
    "\n",
    "---\n",
    "\n",
    "## Content\n",
    "\n",
    "\n",
    " 1. Business Understanding (5 min)\n",
    "     * Objective\n",
    "     * Description\n",
    " 2. Data Understanding (45 min)\n",
    "    * Libraries, Data & Function Definition\n",
    "    * Data Visualization\n",
    " 3. Data Preparation (1h15 min)\n",
    "    * Basic Preparation\n",
    "    * Feature Engineering\n",
    " 4. Modeling Answer (1h30 min)\n",
    "    * Generate & Assemble Data\n",
    "    * Answer"
   ]
  },
  {
   "cell_type": "markdown",
   "metadata": {
    "nbpresent": {
     "id": "5ba3e17a-63c6-49e3-aac5-742e642bdf2b"
    }
   },
   "source": [
    "## 1. Business Understanding"
   ]
  },
  {
   "cell_type": "markdown",
   "metadata": {
    "nbpresent": {
     "id": "7a2d3d64-6e93-4eaa-a533-17d1273da389"
    }
   },
   "source": [
    "### 1.1 Objective"
   ]
  },
  {
   "cell_type": "markdown",
   "metadata": {},
   "source": [
    "What do you propose to someone who has just been to see Inferno, by Ron Howard?"
   ]
  },
  {
   "cell_type": "markdown",
   "metadata": {},
   "source": [
    "### 1.2 Description"
   ]
  },
  {
   "cell_type": "markdown",
   "metadata": {},
   "source": [
    "You are hired by a young Parisian cinema, which offers its members movies in VOD (over a year old), according to the movies they came to see in the week."
   ]
  },
  {
   "cell_type": "markdown",
   "metadata": {},
   "source": [
    "## 2. Data Understanding"
   ]
  },
  {
   "cell_type": "markdown",
   "metadata": {},
   "source": [
    " ### 2.1 Libraries, Data & Function Definition"
   ]
  },
  {
   "cell_type": "markdown",
   "metadata": {},
   "source": [
    "#### Import libraries"
   ]
  },
  {
   "cell_type": "code",
   "execution_count": 1,
   "metadata": {
    "collapsed": false,
    "nbpresent": {
     "id": "1a5460cf-9af2-4758-b14f-17b10df86833"
    }
   },
   "outputs": [],
   "source": [
    "#Handle table-like data and matrices\n",
    "import numpy as np\n",
    "import pandas as pd\n",
    "from itertools import *\n",
    "\n",
    "import requests, json"
   ]
  },
  {
   "cell_type": "markdown",
   "metadata": {},
   "source": [
    "#### Import data"
   ]
  },
  {
   "cell_type": "code",
   "execution_count": 2,
   "metadata": {
    "collapsed": false,
    "nbpresent": {
     "id": "e30ab23a-af02-4389-a328-d1f04456c85c"
    }
   },
   "outputs": [],
   "source": [
    "#import all data from db\n",
    "genome_scores = pd.read_csv(\"genome-scores.csv\")\n",
    "genome_tags = pd.read_csv(\"genome-tags.csv\")\n",
    "links = pd.read_csv(\"links.csv\")\n",
    "movies = pd.read_csv(\"movies.csv\")\n",
    "ratings = pd.read_csv(\"ratings.csv\")\n",
    "tags = pd.read_csv(\"tags.csv\")\n"
   ]
  },
  {
   "cell_type": "markdown",
   "metadata": {},
   "source": [
    "#### Setup helper functions"
   ]
  },
  {
   "cell_type": "code",
   "execution_count": 3,
   "metadata": {
    "collapsed": false
   },
   "outputs": [],
   "source": [
    "def split_cat_genres(list_genres):\n",
    "    movies_same_cat = pd.DataFrame()\n",
    "    movies_other_cat = pd.DataFrame()\n",
    "    for index, row in islice(movies.iterrows(), 0, None):\n",
    "        cat1 = pd.Series(list(movies.genres.iloc[index])).isin(list_genres)\n",
    "        if np.sum(cat1) <= len(list_genres) & np.sum(cat1) >= int(len(list_genres)/2)+1:\n",
    "            movies_same_cat = movies_same_cat.append(row, ignore_index=True)\n",
    "        else:\n",
    "            movies_other_cat = movies_other_cat.append(row, ignore_index=True)\n",
    "    return movies_same_cat, movies_other_cat\n",
    "\n",
    "def get_genres_from_omdb(title, year):\n",
    "    r = requests.get('http://www.omdbapi.com/?t=' + str(title) + '&y=' + str(year))\n",
    "    movie_dict = json.loads(r.text)\n",
    "    movie_seen = pd.DataFrame.from_records([movie_dict])\n",
    "    list_genres_auto = [x.strip() for x in movie_seen.Genre[0].split(',')]\n",
    "    return list_genres_auto"
   ]
  },
  {
   "cell_type": "markdown",
   "metadata": {},
   "source": [
    "### 2.2 Data Visualization"
   ]
  },
  {
   "cell_type": "code",
   "execution_count": 4,
   "metadata": {
    "collapsed": false
   },
   "outputs": [
    {
     "name": "stdout",
     "output_type": "stream",
     "text": [
      "genome_scores : \n",
      "    movieId  tagId  relevance\n",
      "0        1      1    0.02500\n",
      "1        1      2    0.02500\n",
      "2        1      3    0.05775\n",
      "3        1      4    0.09675\n",
      "4        1      5    0.14675\n",
      "genome_tags : \n",
      "    tagId           tag\n",
      "0      1           007\n",
      "1      2  007 (series)\n",
      "2      3  18th century\n",
      "3      4         1920s\n",
      "4      5         1930s\n",
      "links : \n",
      "    movieId  imdbId   tmdbId\n",
      "0        1  114709    862.0\n",
      "1        2  113497   8844.0\n",
      "2        3  113228  15602.0\n",
      "3        4  114885  31357.0\n",
      "4        5  113041  11862.0\n",
      "movies : \n",
      "    movieId                               title  \\\n",
      "0        1                    Toy Story (1995)   \n",
      "1        2                      Jumanji (1995)   \n",
      "2        3             Grumpier Old Men (1995)   \n",
      "3        4            Waiting to Exhale (1995)   \n",
      "4        5  Father of the Bride Part II (1995)   \n",
      "\n",
      "                                        genres  \n",
      "0  Adventure|Animation|Children|Comedy|Fantasy  \n",
      "1                   Adventure|Children|Fantasy  \n",
      "2                               Comedy|Romance  \n",
      "3                         Comedy|Drama|Romance  \n",
      "4                                       Comedy  \n",
      "ratings : \n",
      "    userId  movieId  rating   timestamp\n",
      "0       1        2     3.5  1112486027\n",
      "1       1       29     3.5  1112484676\n",
      "2       1       32     3.5  1112484819\n",
      "3       1       47     3.5  1112484727\n",
      "4       1       50     3.5  1112484580\n",
      "tags : \n",
      "    userId  movieId            tag   timestamp\n",
      "0      18     4141    Mark Waters  1240597180\n",
      "1      65      208      dark hero  1368150078\n",
      "2      65      353      dark hero  1368150079\n",
      "3      65      521  noir thriller  1368149983\n",
      "4      65      592      dark hero  1368150078\n"
     ]
    }
   ],
   "source": [
    "#Discover data\n",
    "print(\"genome_scores : \\n\", genome_scores.head())\n",
    "print(\"genome_tags : \\n\", genome_tags.head())\n",
    "print(\"links : \\n\", links.head())\n",
    "print(\"movies : \\n\", movies.head())\n",
    "print(\"ratings : \\n\", ratings.head())\n",
    "print(\"tags : \\n\", tags.head())"
   ]
  },
  {
   "cell_type": "code",
   "execution_count": 5,
   "metadata": {
    "collapsed": false
   },
   "outputs": [
    {
     "data": {
      "text/html": [
       "<div>\n",
       "<table border=\"1\" class=\"dataframe\">\n",
       "  <thead>\n",
       "    <tr style=\"text-align: right;\">\n",
       "      <th></th>\n",
       "      <th>movieId</th>\n",
       "      <th>title</th>\n",
       "      <th>genres</th>\n",
       "    </tr>\n",
       "  </thead>\n",
       "  <tbody>\n",
       "    <tr>\n",
       "      <th>2439</th>\n",
       "      <td>2524</td>\n",
       "      <td>Towering Inferno, The (1974)</td>\n",
       "      <td>Action|Adventure|Drama|Thriller</td>\n",
       "    </tr>\n",
       "    <tr>\n",
       "      <th>3496</th>\n",
       "      <td>3587</td>\n",
       "      <td>Inferno (1980)</td>\n",
       "      <td>Horror</td>\n",
       "    </tr>\n",
       "    <tr>\n",
       "      <th>9581</th>\n",
       "      <td>30791</td>\n",
       "      <td>Hellraiser: Inferno (2000)</td>\n",
       "      <td>Horror</td>\n",
       "    </tr>\n",
       "    <tr>\n",
       "      <th>9745</th>\n",
       "      <td>31655</td>\n",
       "      <td>Inferno (1953)</td>\n",
       "      <td>Drama</td>\n",
       "    </tr>\n",
       "    <tr>\n",
       "      <th>11368</th>\n",
       "      <td>48536</td>\n",
       "      <td>Dante's Inferno (1935)</td>\n",
       "      <td>Action|Drama</td>\n",
       "    </tr>\n",
       "    <tr>\n",
       "      <th>11530</th>\n",
       "      <td>49979</td>\n",
       "      <td>Desert Heat (Inferno) (1999)</td>\n",
       "      <td>Action</td>\n",
       "    </tr>\n",
       "    <tr>\n",
       "      <th>14808</th>\n",
       "      <td>74115</td>\n",
       "      <td>Dante's Inferno Animated (2010)</td>\n",
       "      <td>Action|Animation|Fantasy</td>\n",
       "    </tr>\n",
       "    <tr>\n",
       "      <th>17261</th>\n",
       "      <td>87164</td>\n",
       "      <td>Henri-Georges Clouzot's Inferno (L'enfer d'Hen...</td>\n",
       "      <td>Documentary</td>\n",
       "    </tr>\n",
       "    <tr>\n",
       "      <th>18932</th>\n",
       "      <td>94160</td>\n",
       "      <td>Dante's Inferno: An Animated Epic (2010)</td>\n",
       "      <td>Action|Animation|Fantasy</td>\n",
       "    </tr>\n",
       "    <tr>\n",
       "      <th>20395</th>\n",
       "      <td>100093</td>\n",
       "      <td>Death Race 3: Inferno (2012)</td>\n",
       "      <td>Action|Sci-Fi|Thriller</td>\n",
       "    </tr>\n",
       "    <tr>\n",
       "      <th>22193</th>\n",
       "      <td>106791</td>\n",
       "      <td>Cut and Run (Inferno in diretta) (1985)</td>\n",
       "      <td>Adventure|Horror|Thriller</td>\n",
       "    </tr>\n",
       "    <tr>\n",
       "      <th>24611</th>\n",
       "      <td>116435</td>\n",
       "      <td>Building the Inferno: Nobuo Nakagawa and the M...</td>\n",
       "      <td>Documentary</td>\n",
       "    </tr>\n",
       "    <tr>\n",
       "      <th>24651</th>\n",
       "      <td>116580</td>\n",
       "      <td>Dante's Inferno (2007)</td>\n",
       "      <td>Animation|Comedy</td>\n",
       "    </tr>\n",
       "  </tbody>\n",
       "</table>\n",
       "</div>"
      ],
      "text/plain": [
       "       movieId                                              title  \\\n",
       "2439      2524                       Towering Inferno, The (1974)   \n",
       "3496      3587                                     Inferno (1980)   \n",
       "9581     30791                         Hellraiser: Inferno (2000)   \n",
       "9745     31655                                     Inferno (1953)   \n",
       "11368    48536                             Dante's Inferno (1935)   \n",
       "11530    49979                       Desert Heat (Inferno) (1999)   \n",
       "14808    74115                    Dante's Inferno Animated (2010)   \n",
       "17261    87164  Henri-Georges Clouzot's Inferno (L'enfer d'Hen...   \n",
       "18932    94160           Dante's Inferno: An Animated Epic (2010)   \n",
       "20395   100093                       Death Race 3: Inferno (2012)   \n",
       "22193   106791            Cut and Run (Inferno in diretta) (1985)   \n",
       "24611   116435  Building the Inferno: Nobuo Nakagawa and the M...   \n",
       "24651   116580                             Dante's Inferno (2007)   \n",
       "\n",
       "                                genres  \n",
       "2439   Action|Adventure|Drama|Thriller  \n",
       "3496                            Horror  \n",
       "9581                            Horror  \n",
       "9745                             Drama  \n",
       "11368                     Action|Drama  \n",
       "11530                           Action  \n",
       "14808         Action|Animation|Fantasy  \n",
       "17261                      Documentary  \n",
       "18932         Action|Animation|Fantasy  \n",
       "20395           Action|Sci-Fi|Thriller  \n",
       "22193        Adventure|Horror|Thriller  \n",
       "24611                      Documentary  \n",
       "24651                 Animation|Comedy  "
      ]
     },
     "execution_count": 5,
     "metadata": {},
     "output_type": "execute_result"
    }
   ],
   "source": [
    "movies[movies['title'].str.contains(\"Inferno\")==True]"
   ]
  },
  {
   "cell_type": "markdown",
   "metadata": {},
   "source": [
    "Inferno from Ron Howard doesnt seem to be in the database. To propose the user another movie to watch, I must be able to compare Inferno with other movies. From the observation of the data it seems that tags and genres are redundant information. So I need to get the genre of the movie to advise properly my user"
   ]
  },
  {
   "cell_type": "markdown",
   "metadata": {},
   "source": [
    "## 3. Data Preparation"
   ]
  },
  {
   "cell_type": "markdown",
   "metadata": {},
   "source": [
    "### 3.1 Basic Preparation"
   ]
  },
  {
   "cell_type": "code",
   "execution_count": 6,
   "metadata": {
    "collapsed": false
   },
   "outputs": [],
   "source": [
    "# Generate list in place of string for genres\n",
    "movies[\"genres\"] = pd.DataFrame(movies.genres.str.split('|'))\n",
    "\n",
    "# Extract release date from title\n",
    "movies['release_date'] = movies['title'].str.replace(r'[^(]*\\(|\\)[^)]*', '')\n",
    "#movies['release_date'] = movies['title'].str.extract(r'(^\\d[0-9]{4,4}$)')\n",
    "movies['release_date'] = pd.to_numeric(movies.release_date, errors='coerce')"
   ]
  },
  {
   "cell_type": "markdown",
   "metadata": {},
   "source": [
    "### 3.2 Feature Engineering"
   ]
  },
  {
   "cell_type": "markdown",
   "metadata": {},
   "source": [
    "#### Fast Answer\n",
    "\n",
    "If the context suggests that I must find a solution as soon as possible I would proceed this way :\n",
    "I'd go to imdb.com and find in what genres the movie \"Inferno\" is clustered:\n",
    "\n",
    "Genres | \n",
    "---|---\n",
    " |Action|Adventure|Crime|Drama|Mystery|Thriller"
   ]
  },
  {
   "cell_type": "code",
   "execution_count": 7,
   "metadata": {
    "collapsed": false
   },
   "outputs": [
    {
     "name": "stdout",
     "output_type": "stream",
     "text": [
      "['Action', 'Adventure', 'Crime', 'Drama', 'Mystery', 'Thriller']\n"
     ]
    }
   ],
   "source": [
    "#List entered manually\n",
    "list_genres = [\"Action\", \"Adventure\", \"Crime\", \"Drama\", \"Mystery\", \"Thriller\"]\n",
    "print(list_genres)"
   ]
  },
  {
   "cell_type": "markdown",
   "metadata": {},
   "source": [
    "#### Automated answer\n",
    "On the other hand, if the context suggest that we would have to reproduce the experience or integrate this process automatically, I would proceed that way:\n",
    "\n",
    "I'd use the omdb API to retrieve the \"genre\" information having 2 input (title & release year)"
   ]
  },
  {
   "cell_type": "code",
   "execution_count": 8,
   "metadata": {
    "collapsed": false
   },
   "outputs": [
    {
     "name": "stdout",
     "output_type": "stream",
     "text": [
      "['Action', 'Adventure', 'Crime']\n"
     ]
    }
   ],
   "source": [
    "movie_seen_title = 'inferno'\n",
    "movie_seen_year = '2016'\n",
    "\n",
    "list_genres = get_genres_from_omdb(movie_seen_title, movie_seen_year)\n",
    "print(list_genres)"
   ]
  },
  {
   "cell_type": "markdown",
   "metadata": {},
   "source": [
    "## 4. Modeling Answer"
   ]
  },
  {
   "cell_type": "markdown",
   "metadata": {},
   "source": [
    "### 4.1 Generate & Assemble Data"
   ]
  },
  {
   "cell_type": "markdown",
   "metadata": {},
   "source": [
    "Then I would split the movies into 2 categories:\n",
    "\n",
    "* Those with the same genres (at least half of the genres from the movie seen are shared by the other movies in that categorie).\n",
    "\n",
    "* Those with different genres\n",
    "\n",
    "I'd make 2 propositions to my customer who just watched Inferno:\n",
    "\n",
    "Movie liked | Movie not liked\n",
    "---|---\n",
    "same genres categorie|other genres categorie\n",
    "\n",
    "\n",
    "\n",
    "To do so I would rank the movies with the average rating users gave them. Then I would split the movies into the 2 categories we discussed and sort them from best average rating to worst and from most recent date of release to older ones.\n",
    "\n",
    "So let's get and average rating for each movie and then split movies into 2 categories:\n",
    "\n",
    "* movie_same_cat => movies sharing same genres\n",
    "* movies_other_cat => movies with other genres"
   ]
  },
  {
   "cell_type": "code",
   "execution_count": 9,
   "metadata": {
    "collapsed": false
   },
   "outputs": [],
   "source": [
    "# Get average movie rating\n",
    "movies['avg_rating'] = pd.Series(ratings.groupby('movieId').rating.mean().reset_index(level=0, drop=True))\n",
    "\n",
    "# Split the movies DataFrame into 2 categories\n",
    "movies_same_cat, movies_other_cat = split_cat_genres(list_genres)\n",
    "\n",
    "# Sort by average rating and release date\n",
    "movies_same_genres = movies_same_cat.sort_values(['avg_rating', 'release_date'], ascending=False)\n",
    "movies_other_genres = movies_other_cat.sort_values(['avg_rating', 'release_date'], ascending=False)"
   ]
  },
  {
   "cell_type": "markdown",
   "metadata": {},
   "source": [
    "### 4.2 Answer"
   ]
  },
  {
   "cell_type": "code",
   "execution_count": 10,
   "metadata": {
    "collapsed": false,
    "scrolled": true
   },
   "outputs": [
    {
     "name": "stdout",
     "output_type": "stream",
     "text": [
      "If you liked Inferno, we advise you to watch :  In Order of Disappearance (Kraftidioten) (2014)\n",
      "If you did not like Inferno, we advise you to watch :  Sleeping with Other People (2015)\n"
     ]
    }
   ],
   "source": [
    "print(\"If you liked Inferno, we advise you to watch : \", movies_same_genres.title.iloc[0])\n",
    "print(\"If you did not like Inferno, we advise you to watch : \", movies_other_genres.title.iloc[0])"
   ]
  }
 ],
 "metadata": {
  "anaconda-cloud": {},
  "kernelspec": {
   "display_name": "Python [default]",
   "language": "python",
   "name": "python3"
  },
  "language_info": {
   "codemirror_mode": {
    "name": "ipython",
    "version": 3
   },
   "file_extension": ".py",
   "mimetype": "text/x-python",
   "name": "python",
   "nbconvert_exporter": "python",
   "pygments_lexer": "ipython3",
   "version": "3.5.2"
  },
  "nbpresent": {
   "slides": {
    "09bab567-cd77-403f-a4bd-a4b5e2570c82": {
     "id": "09bab567-cd77-403f-a4bd-a4b5e2570c82",
     "prev": "8f4f5df0-7936-44c3-93b7-0ae7fc8b9bfb",
     "regions": {
      "e50a4dd4-01de-4ad0-ba20-7383d06be7f8": {
       "attrs": {
        "height": 0.8,
        "width": 0.8,
        "x": 0.1,
        "y": 0.1
       },
       "content": {
        "cell": "e30ab23a-af02-4389-a328-d1f04456c85c",
        "part": "whole"
       },
       "id": "e50a4dd4-01de-4ad0-ba20-7383d06be7f8"
      }
     }
    },
    "2d3b8947-6941-4a12-96ae-d2630dddecd4": {
     "id": "2d3b8947-6941-4a12-96ae-d2630dddecd4",
     "prev": "cf0e8fe6-a8a1-4438-b82e-5b9f4ad93861",
     "regions": {
      "7c687c5c-5ed2-4c0b-8cfb-f67a52ef64a6": {
       "attrs": {
        "height": 0.8,
        "width": 0.8,
        "x": 0.1,
        "y": 0.1
       },
       "content": {
        "cell": "59a01747-a2bf-4fda-8d2b-bf960c245a47",
        "part": "source"
       },
       "id": "7c687c5c-5ed2-4c0b-8cfb-f67a52ef64a6"
      }
     }
    },
    "8f4f5df0-7936-44c3-93b7-0ae7fc8b9bfb": {
     "id": "8f4f5df0-7936-44c3-93b7-0ae7fc8b9bfb",
     "prev": "2d3b8947-6941-4a12-96ae-d2630dddecd4",
     "regions": {
      "4afb083f-b3c5-4c3b-8ad1-d8ba1ea25bc9": {
       "attrs": {
        "height": 0.8,
        "width": 0.8,
        "x": 0.1,
        "y": 0.1
       },
       "content": {
        "cell": "7a2d3d64-6e93-4eaa-a533-17d1273da389",
        "part": "source"
       },
       "id": "4afb083f-b3c5-4c3b-8ad1-d8ba1ea25bc9"
      }
     }
    },
    "cf0e8fe6-a8a1-4438-b82e-5b9f4ad93861": {
     "id": "cf0e8fe6-a8a1-4438-b82e-5b9f4ad93861",
     "prev": null,
     "regions": {
      "f38f8bf2-aedb-4c5a-bf76-6bedb2aa42c7": {
       "attrs": {
        "height": 0.8,
        "width": 0.8,
        "x": 0.1,
        "y": 0.1
       },
       "content": {
        "cell": "8a55092b-7a6c-475b-a5b1-795983637c43",
        "part": "source"
       },
       "id": "f38f8bf2-aedb-4c5a-bf76-6bedb2aa42c7"
      }
     }
    }
   },
   "themes": {}
  }
 },
 "nbformat": 4,
 "nbformat_minor": 1
}
